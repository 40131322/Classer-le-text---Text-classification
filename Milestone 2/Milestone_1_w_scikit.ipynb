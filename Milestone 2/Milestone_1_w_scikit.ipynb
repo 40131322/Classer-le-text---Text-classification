{
 "cells": [
  {
   "cell_type": "markdown",
   "id": "3385548e-a425-4093-b523-511008642710",
   "metadata": {},
   "source": [
    "# Bring Packages"
   ]
  },
  {
   "cell_type": "code",
   "execution_count": 1,
   "id": "7069a99e-b052-4b6b-b8a1-d4ec47cc20cd",
   "metadata": {},
   "outputs": [],
   "source": [
    "import numpy as np\n",
    "from sklearn.feature_selection import VarianceThreshold, SelectKBest, chi2\n",
    "from sklearn.feature_extraction.text import TfidfTransformer\n",
    "from sklearn.linear_model import LogisticRegression\n",
    "from sklearn.naive_bayes import MultinomialNB\n",
    "from sklearn.svm import SVC\n",
    "from sklearn.ensemble import RandomForestClassifier\n",
    "from sklearn.model_selection import cross_val_score\n",
    "from sklearn.metrics import f1_score, make_scorer\n",
    "from imblearn.over_sampling import SMOTE\n",
    "from collections import Counter\n",
    "import matplotlib.pyplot as plt"
   ]
  },
  {
   "cell_type": "markdown",
   "id": "351bc7a0-7052-4a3f-8afe-cff6e8b9da0e",
   "metadata": {},
   "source": [
    "# Load Data"
   ]
  },
  {
   "cell_type": "code",
   "execution_count": 2,
   "id": "899e4ef0-163c-46da-a85d-1c8f148a26d2",
   "metadata": {},
   "outputs": [
    {
     "name": "stdout",
     "output_type": "stream",
     "text": [
      "Loading training data...\n"
     ]
    },
    {
     "ename": "FileNotFoundError",
     "evalue": "[Errno 2] No such file or directory: '..Data//data_train.npy'",
     "output_type": "error",
     "traceback": [
      "\u001b[1;31m---------------------------------------------------------------------------\u001b[0m",
      "\u001b[1;31mFileNotFoundError\u001b[0m                         Traceback (most recent call last)",
      "Cell \u001b[1;32mIn[2], line 3\u001b[0m\n\u001b[0;32m      1\u001b[0m \u001b[38;5;66;03m# Load data\u001b[39;00m\n\u001b[0;32m      2\u001b[0m \u001b[38;5;28mprint\u001b[39m(\u001b[38;5;124m\"\u001b[39m\u001b[38;5;124mLoading training data...\u001b[39m\u001b[38;5;124m\"\u001b[39m)\n\u001b[1;32m----> 3\u001b[0m X_train \u001b[38;5;241m=\u001b[39m np\u001b[38;5;241m.\u001b[39mload(\u001b[38;5;124m\"\u001b[39m\u001b[38;5;124m..Data//data_train.npy\u001b[39m\u001b[38;5;124m\"\u001b[39m)\u001b[38;5;241m.\u001b[39mastype(\u001b[38;5;28mint\u001b[39m)\n\u001b[0;32m      4\u001b[0m \u001b[38;5;28mprint\u001b[39m(\u001b[38;5;124m\"\u001b[39m\u001b[38;5;124mTraining data loaded.\u001b[39m\u001b[38;5;124m\"\u001b[39m)\n\u001b[0;32m      5\u001b[0m \u001b[38;5;66;03m# shape: (num_documents, num_terms)\u001b[39;00m\n",
      "File \u001b[1;32m~\\anaconda3\\Lib\\site-packages\\numpy\\lib\\npyio.py:427\u001b[0m, in \u001b[0;36mload\u001b[1;34m(file, mmap_mode, allow_pickle, fix_imports, encoding, max_header_size)\u001b[0m\n\u001b[0;32m    425\u001b[0m     own_fid \u001b[38;5;241m=\u001b[39m \u001b[38;5;28;01mFalse\u001b[39;00m\n\u001b[0;32m    426\u001b[0m \u001b[38;5;28;01melse\u001b[39;00m:\n\u001b[1;32m--> 427\u001b[0m     fid \u001b[38;5;241m=\u001b[39m stack\u001b[38;5;241m.\u001b[39menter_context(\u001b[38;5;28mopen\u001b[39m(os_fspath(file), \u001b[38;5;124m\"\u001b[39m\u001b[38;5;124mrb\u001b[39m\u001b[38;5;124m\"\u001b[39m))\n\u001b[0;32m    428\u001b[0m     own_fid \u001b[38;5;241m=\u001b[39m \u001b[38;5;28;01mTrue\u001b[39;00m\n\u001b[0;32m    430\u001b[0m \u001b[38;5;66;03m# Code to distinguish from NumPy binary files and pickles.\u001b[39;00m\n",
      "\u001b[1;31mFileNotFoundError\u001b[0m: [Errno 2] No such file or directory: '..Data//data_train.npy'"
     ]
    }
   ],
   "source": [
    "# Load data\n",
    "print(\"Loading training data...\")\n",
    "X_train = np.load(\"..Data//data_train.npy\").astype(int)\n",
    "print(\"Training data loaded.\")\n",
    "# shape: (num_documents, num_terms)\n",
    "print(\"Loading training labels...\")\n",
    "y_train = np.loadtxt('..Data//label_train.csv',skiprows=1,delimiter=',').astype(int)  # shape: (num_documents,)\n",
    "print(\"Training labels loaded.\")\n",
    "print(\"Loading test data...\")\n",
    "X_test = np.load(\"..Data//data_test.npy\").astype(int)  # shape: (num_test_documents, num_terms)\n",
    "print(\"Test data loaded.\")\n",
    "print(\"Loading vocabulary...\")\n",
    "vocab_data = np.load(\"..Data//vocab_map.npy\", allow_pickle=True)\n",
    "print(\"Vocab data loaded.\")\n",
    "\n",
    "# Check dimensions\n",
    "print(f\"Training data shape: {X_train.shape}\")\n",
    "print(f\"Training labels shape: {y_train.shape}\")\n",
    "print(f\"Test data shape: {X_test.shape}\")\n",
    "print(f\"Vocab data shape: {vocab_data.shape}\")\n",
    "\n"
   ]
  },
  {
   "cell_type": "code",
   "execution_count": 36,
   "id": "1d5415c9-329e-4720-8638-c646d07321bb",
   "metadata": {},
   "outputs": [
    {
     "data": {
      "text/plain": [
       "(26354,)"
      ]
     },
     "execution_count": 36,
     "metadata": {},
     "output_type": "execute_result"
    }
   ],
   "source": [
    "vocab_data.shape"
   ]
  },
  {
   "cell_type": "code",
   "execution_count": 37,
   "id": "531253c6-2776-49c8-93a3-6b15f2d58d52",
   "metadata": {},
   "outputs": [],
   "source": [
    "x_raw = X_train\n",
    "y_raw = y_train[:,1]"
   ]
  },
  {
   "cell_type": "code",
   "execution_count": 38,
   "id": "69b65f29-354c-4aaf-9da7-2cbd5058645c",
   "metadata": {},
   "outputs": [],
   "source": [
    "def testdf(df):\n",
    "    if isinstance(df, pd.DataFrame):\n",
    "        print(\"The object is a DataFrame.\")\n",
    "    else:\n",
    "        print(\"The object is not a DataFrame.\")\n",
    "\n",
    "def test_if_list(obj):\n",
    "    if isinstance(obj, list):\n",
    "        print(\"The object is a list.\")\n",
    "    else:\n",
    "        print(\"The object is not a list.\")\n",
    "\n",
    "def test_if_tuple(obj):\n",
    "    if isinstance(obj, tuple):\n",
    "        print(\"The object is a tuple.\")\n",
    "    else:\n",
    "        print(\"The object is not a tuple.\")\n",
    "\n",
    "def test_if_array(obj):\n",
    "    if isinstance(obj, np.ndarray):\n",
    "        print(\"The object is a numpy array.\")\n",
    "    else:\n",
    "        print(\"The object is not a numpy array.\")"
   ]
  },
  {
   "cell_type": "markdown",
   "id": "b9baebe5-20d2-4b52-b000-45339e2c29fd",
   "metadata": {},
   "source": [
    "# Model"
   ]
  },
  {
   "cell_type": "code",
   "execution_count": 39,
   "id": "9e7295aa-8168-4c86-97d3-9b9f00e27948",
   "metadata": {},
   "outputs": [
    {
     "name": "stdout",
     "output_type": "stream",
     "text": [
      "[[   0    0]\n",
      " [   1    0]\n",
      " [   2    0]\n",
      " ...\n",
      " [9419    0]\n",
      " [9420    0]\n",
      " [9421    0]]\n",
      "[0 0 0 ... 0 0 0]\n"
     ]
    }
   ],
   "source": [
    "print(y_train)\n",
    "print(y_raw)"
   ]
  },
  {
   "cell_type": "markdown",
   "id": "0209f805-a125-4271-8ec2-cae22ae5f460",
   "metadata": {},
   "source": [
    "# Data Visualization"
   ]
  },
  {
   "cell_type": "code",
   "execution_count": 40,
   "id": "8035836b-7e24-43ff-a9fa-0f2786e978d7",
   "metadata": {},
   "outputs": [
    {
     "data": {
      "image/png": "[encoded data removed]",
      "text/plain": [
       "<Figure size 800x600 with 1 Axes>"
      ]
     },
     "metadata": {},
     "output_type": "display_data"
    }
   ],
   "source": [
    "# Extract the class labels from the second column of y_train\n",
    "class_labels = y_raw\n",
    "\n",
    "# Count the occurrences of class 0 and class 1\n",
    "unique, counts = np.unique(class_labels, return_counts=True)\n",
    "count_dict = dict(zip(unique, counts))\n",
    "\n",
    "# Create a bar chart\n",
    "plt.figure(figsize=(8, 6))\n",
    "plt.bar(count_dict.keys(), count_dict.values(), color=['blue', 'orange'])\n",
    "plt.xlabel('Class')\n",
    "plt.ylabel('Count')\n",
    "plt.title('Count of 0s and 1s')\n",
    "plt.xticks([0, 1], ['Class 0', 'Class 1'])\n",
    "plt.grid(True)\n",
    "plt.show()"
   ]
  },
  {
   "cell_type": "code",
   "execution_count": 41,
   "id": "04e00311-36de-4240-9323-327fedb8e9f6",
   "metadata": {},
   "outputs": [
    {
     "name": "stdout",
     "output_type": "stream",
     "text": [
      "Difference in counts: 4826\n",
      "Ratio of counts: 3.10\n"
     ]
    }
   ],
   "source": [
    "# Calculate the difference and ratio of counts\n",
    "count_diff = abs(count_dict[0] - count_dict[1])\n",
    "count_ratio = count_dict[0] / count_dict[1] if count_dict[1] != 0 else float('inf')\n",
    "\n",
    "# Print the results\n",
    "print(f\"Difference in counts: {count_diff}\")\n",
    "print(f\"Ratio of counts: {count_ratio:.2f}\")"
   ]
  },
  {
   "cell_type": "code",
   "execution_count": 42,
   "id": "1020264f-fb97-4244-a212-b17a8793c167",
   "metadata": {},
   "outputs": [
    {
     "name": "stdout",
     "output_type": "stream",
     "text": [
      "Class percentages for Training Dataset:\n",
      "Class 0: 75.61%\n",
      "Class 1: 24.39%\n"
     ]
    }
   ],
   "source": [
    "def print_class_percentages(y, dataset_name):\n",
    "    unique, counts = np.unique(y, return_counts=True)\n",
    "    total = len(y)\n",
    "    percentages = {cls: (count / total) * 100 for cls, count in zip(unique, counts)}\n",
    "    \n",
    "    print(f\"Class percentages for {dataset_name}:\")\n",
    "    for cls, percentage in percentages.items():\n",
    "        print(f\"Class {cls}: {percentage:.2f}%\")\n",
    "\n",
    "# Print class percentages for training and test datasets\n",
    "print_class_percentages(class_labels, \"Training Dataset\")\n"
   ]
  },
  {
   "cell_type": "code",
   "execution_count": 43,
   "id": "45668317-29e7-4bf4-a454-0310494e75be",
   "metadata": {},
   "outputs": [
    {
     "name": "stdout",
     "output_type": "stream",
     "text": [
      "[0 1] [7124 2298]\n"
     ]
    }
   ],
   "source": [
    "print(unique, counts)"
   ]
  },
  {
   "cell_type": "markdown",
   "id": "b78e5919-acff-461a-9b1a-8ceaac7d041e",
   "metadata": {},
   "source": [
    "## See on average how often does a word appear in text"
   ]
  },
  {
   "cell_type": "code",
   "execution_count": 44,
   "id": "930c8bbd-d244-45f0-b7a8-4eee99428e2e",
   "metadata": {},
   "outputs": [],
   "source": [
    "## See on average how often does a word appear in text"
   ]
  },
  {
   "cell_type": "code",
   "execution_count": 47,
   "id": "20b80d3c-9867-40b9-aa72-ecaf63cc4e76",
   "metadata": {},
   "outputs": [
    {
     "name": "stdout",
     "output_type": "stream",
     "text": [
      "[   4    8    9 ... 9410 9412 9418]\n",
      "[   0    1    2 ... 9419 9420 9421]\n"
     ]
    }
   ],
   "source": [
    "ind_class0 = (y_raw==1).nonzero()[0]\n",
    "print(ind_class0)\n",
    "ind_class1 = (y_raw==0).nonzero()[0]\n",
    "print(ind_class1)"
   ]
  },
  {
   "cell_type": "code",
   "execution_count": 48,
   "id": "4d99af47-af7a-40cf-8c4c-c1c237dfb432",
   "metadata": {},
   "outputs": [
    {
     "data": {
      "text/plain": [
       "[<matplotlib.lines.Line2D at 0x1a07c450ce0>]"
      ]
     },
     "execution_count": 48,
     "metadata": {},
     "output_type": "execute_result"
    },
    {
     "data": {
      "image/png": "[encoded data removed]",
      "text/plain": [
       "<Figure size 1300x500 with 1 Axes>"
      ]
     },
     "metadata": {},
     "output_type": "display_data"
    }
   ],
   "source": [
    "plt.figure(figsize=(13,5))\n",
    "plt.plot(X_train[ind_class0,:].mean(axis=0),alpha=0.5)\n",
    "plt.plot(X_train[ind_class1,:].mean(axis=0),alpha=0.5)\n",
    "# plt.semilogy()\n",
    "# plt.ylim(0.1,2)"
   ]
  },
  {
   "cell_type": "code",
   "execution_count": 51,
   "id": "d4920dd8-7ad6-464c-89e0-7dfe984140d4",
   "metadata": {},
   "outputs": [
    {
     "name": "stdout",
     "output_type": "stream",
     "text": [
      "['the', 'of', 'and', 'we', 'in', 'to', 'is', 'our', 'that', 'models', 'this', 'model', 'learning', 'neural', 'system', 'are', 'on', 'paper', 'show', 'for', 'based', 'used', 'systems', 'an', 'art', 'be', 'matrix', 'convex', 'information', 'tasks']\n"
     ]
    }
   ],
   "source": [
    "# Calculate the mean appearance of each word for each class\n",
    "mean_appearance_class_0 = x_raw[y_raw == 0].mean(axis=0)\n",
    "mean_appearance_class_1 = x_raw[y_raw == 1].mean(axis=0)\n",
    "\n",
    "# Compute the absolute difference in mean appearance between the two classes\n",
    "mean_difference = np.abs(mean_appearance_class_0 - mean_appearance_class_1)\n",
    "\n",
    "# Identify the words with the largest differences\n",
    "largest_diff_indices = np.argsort(mean_difference)[::-1]  # Sort indices in descending order of difference\n",
    "\n",
    "top_n = 30  # Number of top words to display\n",
    "top_words = [vocab_data[i] for i in largest_diff_indices[:top_n]]\n",
    "print(top_words)\n"
   ]
  },
  {
   "cell_type": "code",
   "execution_count": 58,
   "id": "059ddaf5-33e3-43bf-96ba-735f2f7f6f13",
   "metadata": {},
   "outputs": [
    {
     "data": {
      "image/png": "[encoded data removed]",
      "text/plain": [
       "<Figure size 1000x600 with 1 Axes>"
      ]
     },
     "metadata": {},
     "output_type": "display_data"
    }
   ],
   "source": [
    "column_means = np.mean(x_raw, axis=0)\n",
    "# Plot the mean values\n",
    "plt.figure(figsize=(10, 6))\n",
    "plt.bar(range(len(column_means)), column_means)\n",
    "plt.xlabel('Column Index')\n",
    "plt.ylabel('Mean Value')\n",
    "plt.ylim(0, 1)\n",
    "plt.title('Mean Value of Each Column in Training Data')\n",
    "plt.show()"
   ]
  },
  {
   "cell_type": "code",
   "execution_count": 59,
   "id": "0731907d-0982-4e79-9356-902dc9b830ca",
   "metadata": {},
   "outputs": [
    {
     "data": {
      "text/plain": [
       "array([0.00021227, 0.00870304, 0.00010613, ..., 0.00021227, 0.00021227,\n",
       "       0.00159202])"
      ]
     },
     "execution_count": 59,
     "metadata": {},
     "output_type": "execute_result"
    }
   ],
   "source": [
    "column_means"
   ]
  },
  {
   "cell_type": "markdown",
   "id": "9e4a3e91-65cd-4c63-b7bb-d35d6d7efd05",
   "metadata": {},
   "source": [
    "## Identify the means of appearance of words when class 1 vs when class 0 and finding the words with the largest difference of appearances"
   ]
  },
  {
   "cell_type": "code",
   "execution_count": 24,
   "id": "bf791b6e-2977-4095-8c86-5739408d2a2e",
   "metadata": {},
   "outputs": [],
   "source": [
    "X_train = X_resampled\n",
    "y_train = y_resampled"
   ]
  },
  {
   "cell_type": "code",
   "execution_count": 25,
   "id": "7978d162-4ec6-4dad-a198-d1d2ba74d64b",
   "metadata": {},
   "outputs": [
    {
     "name": "stdout",
     "output_type": "stream",
     "text": [
      "['the', 'of', 'we', 'and', 'in', 'to', 'is', 'our', 'models', 'that', 'this', 'model', 'learning', 'system', 'neural', 'are', 'paper', 'on', 'for', 'based', 'systems', 'used', 'show', 'matrix', 'an', 'art', 'tasks', 'be', 'convex', 'state']\n"
     ]
    }
   ],
   "source": [
    "# Calculate the mean appearance of each word for each class\n",
    "mean_appearance_class_0 = X_train[y_train == 0].mean(axis=0)\n",
    "mean_appearance_class_1 = X_train[y_train == 1].mean(axis=0)\n",
    "\n",
    "# Compute the absolute difference in mean appearance between the two classes\n",
    "mean_difference = np.abs(mean_appearance_class_0 - mean_appearance_class_1)\n",
    "\n",
    "# Identify the words with the largest differences\n",
    "largest_diff_indices = np.argsort(mean_difference)[::-1]  # Sort indices in descending order of difference\n",
    "\n",
    "top_n = 30  # Number of top words to display\n",
    "top_words = [vocab_data[i] for i in largest_diff_indices[:top_n]]\n",
    "print(top_words)\n"
   ]
  },
  {
   "cell_type": "code",
   "execution_count": 26,
   "id": "393a9ea9-87f9-40d1-908b-d5bbd346a382",
   "metadata": {},
   "outputs": [
    {
     "data": {
      "text/plain": [
       "array([0.00028074, 0.00407075, 0.00014037, ..., 0.00028074, 0.00028074,\n",
       "       0.00210556])"
      ]
     },
     "execution_count": 26,
     "metadata": {},
     "output_type": "execute_result"
    }
   ],
   "source": [
    "mean_difference"
   ]
  },
  {
   "cell_type": "code",
   "execution_count": 27,
   "id": "d30bd311-8a51-4923-90dc-55471febbefc",
   "metadata": {},
   "outputs": [],
   "source": [
    "#Remove the useless data\n",
    "# Calculate the mean of each column\n",
    "column_means = X_train.mean(axis=0)\n",
    "\n",
    "# Identify columns where the mean is zero\n",
    "columns_to_drop = np.where(column_means == 0)[0]\n",
    "\n",
    "# Drop these columns from the dataset\n",
    "X_train_zero_dropped = np.delete(X_train, columns_to_drop, axis=1)\n",
    "\n"
   ]
  },
  {
   "cell_type": "code",
   "execution_count": 28,
   "id": "6755b82c-a160-4a89-9060-e2540e143a34",
   "metadata": {},
   "outputs": [],
   "source": [
    "#log transform the data\n",
    "\n",
    "x_log = np.log(X_train_zero_dropped+1)"
   ]
  },
  {
   "cell_type": "code",
   "execution_count": 29,
   "id": "8fbd58b9-e627-46f3-b1fa-18035fc16065",
   "metadata": {},
   "outputs": [
    {
     "data": {
      "text/plain": [
       "(9422, 26354)"
      ]
     },
     "execution_count": 29,
     "metadata": {},
     "output_type": "execute_result"
    }
   ],
   "source": [
    "x_raw.shape"
   ]
  },
  {
   "cell_type": "code",
   "execution_count": 30,
   "id": "22f1fe1d-3e2a-4ddb-b627-661580784c69",
   "metadata": {},
   "outputs": [
    {
     "data": {
      "text/plain": [
       "(9422,)"
      ]
     },
     "execution_count": 30,
     "metadata": {},
     "output_type": "execute_result"
    }
   ],
   "source": [
    "y_raw.shape"
   ]
  },
  {
   "cell_type": "code",
   "execution_count": 31,
   "id": "8d5afce2-7a40-4de6-a522-79e12bfa6f54",
   "metadata": {},
   "outputs": [
    {
     "data": {
      "text/plain": [
       "26354"
      ]
     },
     "execution_count": 31,
     "metadata": {},
     "output_type": "execute_result"
    }
   ],
   "source": [
    "len(column_means)"
   ]
  },
  {
   "cell_type": "code",
   "execution_count": 32,
   "id": "c0b90e9d-f227-48a7-8fd4-691702f8160a",
   "metadata": {},
   "outputs": [
    {
     "data": {
      "text/plain": [
       "array([0.00206832, 0.00306722, 0.00169472, ..., 0.00339478, 0.00288074,\n",
       "       0.00417394])"
      ]
     },
     "execution_count": 32,
     "metadata": {},
     "output_type": "execute_result"
    }
   ],
   "source": [
    "column_means = np.mean(x_log, axis=0)\n",
    "means = np.mean(x_log, axis=1)\n",
    "std = column_means.std()\n",
    "means\n"
   ]
  },
  {
   "cell_type": "code",
   "execution_count": 33,
   "id": "cc48bfb9-6eb4-4e3a-a30a-d03e1a581a95",
   "metadata": {},
   "outputs": [
    {
     "data": {
      "text/plain": [
       "0.002888312271943901"
      ]
     },
     "execution_count": 33,
     "metadata": {},
     "output_type": "execute_result"
    }
   ],
   "source": [
    "np.mean(column_means)"
   ]
  },
  {
   "cell_type": "code",
   "execution_count": 34,
   "id": "6b9340e4-c972-42d7-96de-264131c0c297",
   "metadata": {},
   "outputs": [
    {
     "data": {
      "text/plain": [
       "0.028982138500157066"
      ]
     },
     "execution_count": 34,
     "metadata": {},
     "output_type": "execute_result"
    }
   ],
   "source": [
    "np.std(column_means)"
   ]
  },
  {
   "cell_type": "code",
   "execution_count": 35,
   "id": "7869fd01-201a-41be-b60d-135496c4aa58",
   "metadata": {},
   "outputs": [
    {
     "data": {
      "image/png": "[encoded data removed]",
      "text/plain": [
       "<Figure size 1000x600 with 1 Axes>"
      ]
     },
     "metadata": {},
     "output_type": "display_data"
    }
   ],
   "source": [
    "column_means = np.mean(x_log, axis=0)\n",
    "# Plot the mean values\n",
    "plt.figure(figsize=(10, 6))\n",
    "plt.bar(range(len(column_means)), column_means)\n",
    "plt.xlabel('Column Index')\n",
    "plt.ylabel('Mean Value')\n",
    "plt.ylim(0, 3)\n",
    "plt.title('Mean Value of Each Column in log transformed Training Data')\n",
    "plt.show()"
   ]
  },
  {
   "cell_type": "code",
   "execution_count": 36,
   "id": "ab903f29-1b8a-4c4f-8b3b-eae3389ee540",
   "metadata": {},
   "outputs": [
    {
     "data": {
      "image/png": "[encoded data removed]",
      "text/plain": [
       "<Figure size 1000x600 with 1 Axes>"
      ]
     },
     "metadata": {},
     "output_type": "display_data"
    }
   ],
   "source": [
    "column_means = np.mean(X_train_zero_dropped, axis=0)\n",
    "# Plot the mean values\n",
    "plt.figure(figsize=(10, 6))\n",
    "plt.bar(range(len(column_means)), column_means)\n",
    "plt.xlabel('Column Index')\n",
    "plt.ylabel('Mean Value')\n",
    "plt.ylim(0, 3)\n",
    "plt.title('Mean Value of Each Column in Training Data')\n",
    "plt.show()"
   ]
  },
  {
   "cell_type": "code",
   "execution_count": null,
   "id": "ebcebe93-f51d-4dd0-8e8b-b3d3cdf4767a",
   "metadata": {},
   "outputs": [],
   "source": [
    "## Use Variance Threshold to remove low mean features"
   ]
  },
  {
   "cell_type": "code",
   "execution_count": null,
   "id": "71dc190a-815d-4efb-b0f7-69e291d54ef5",
   "metadata": {},
   "outputs": [],
   "source": [
    "from sklearn.feature_selection import VarianceThreshold"
   ]
  },
  {
   "cell_type": "markdown",
   "id": "43c96773-d150-452b-8e2e-f37d21ba08cf",
   "metadata": {},
   "source": [
    "## Stop words removal"
   ]
  },
  {
   "cell_type": "code",
   "execution_count": 48,
   "id": "a5daa7ed-520d-44fd-9add-43cb1649e87f",
   "metadata": {},
   "outputs": [
    {
     "name": "stdout",
     "output_type": "stream",
     "text": [
      "[1293, 1466, 1634, 1691, 1811, 2246, 3299, 3571, 3590, 3686, 7452, 7487, 7761, 9341, 9674, 9921, 10008, 11072, 11341, 11639, 11884, 13002, 15415, 15442, 16141, 16262, 16291, 16335, 16591, 16701, 16703, 16717, 16865, 16972, 16991, 17049, 17136, 20791, 21536, 21929, 22003, 22924, 23744, 23753, 23774, 23796, 24009, 24051, 24780, 25114, 25415, 25891, 25894, 25911, 25926, 25974, 26016, 26021]\n"
     ]
    }
   ],
   "source": [
    "# Define a list of stop words\n",
    "stop_words = ['a', 'an', 'the', 'and', 'or', 'but', 'if', 'while', 'with', 'without', 'of', 'at', 'by', 'for', 'to', 'in', 'on', 'from', 'up', 'down', 'out', 'over', 'under', 'again', 'further', 'then', 'once', 'here', 'there', 'when', 'where', 'why', 'how', 'all', 'any', 'both', 'each', 'few', 'more', 'most', 'other', 'some', 'such', 'no', 'nor', 'not', 'only', 'own', 'same', 'so', 'than', 'too', 'very', 's', 't', 'can', 'will', 'just', 'don', 'should', 'now']\n",
    "\n",
    "# Identify the indices of the stop words in the vocabulary\n",
    "stop_word_indices = [i for i, word in enumerate(vocab_data) if word in stop_words]\n",
    "\n",
    "print(stop_word_indices)"
   ]
  },
  {
   "cell_type": "markdown",
   "id": "98654b92-6889-41a5-b45a-0d41890fbe7f",
   "metadata": {},
   "source": [
    "## Data manipulation and feature engineering"
   ]
  },
  {
   "cell_type": "code",
   "execution_count": 72,
   "id": "e8b938ff-eb18-49bc-932e-62a763c51116",
   "metadata": {},
   "outputs": [
    {
     "name": "stdout",
     "output_type": "stream",
     "text": [
      "x_raw shape: (9422, 26354)\n",
      "y_raw shape: (9422,)\n",
      "X_test shape: (2356, 26354)\n",
      "Shape after removing stop words: (9422, 26296)\n",
      "Shape after removing stop words from test data: (2356, 26296)\n",
      "Shape after variance thresholding: (9422, 2379)\n",
      "Shape after variance thresholding on test data: (2356, 2379)\n",
      "Shape after TF-IDF transformation: (9422, 2379)\n",
      "Shape after TF-IDF transformation on test data: (2356, 2379)\n",
      "Shape after clipping: (9422, 2379)\n",
      "Shape after clipping on test data: (2356, 2379)\n",
      "Shape after chi-square feature selection: (9422, 1000)\n",
      "Shape after chi-square feature selection on test data: (2356, 1000)\n",
      "Original class distribution: Counter({0: 7124, 1: 2298})\n",
      "Resampled class distribution: Counter({0: 7124, 1: 7124})\n",
      "Original x_raw shape: (9422, 26354)\n",
      "Filtered x_raw shape: (9422, 2379)\n",
      "TF-IDF x_raw shape: (9422, 2379)\n",
      "Clipped x_raw shape: (9422, 2379)\n",
      "Chi-Square x_raw shape: (9422, 1000)\n",
      "Resampled x_raw shape: (14248, 1000)\n",
      "Original y_raw shape: (9422,)\n",
      "Resampled y_raw shape: (14248,)\n"
     ]
    },
    {
     "data": {
      "image/png": "[encoded data removed]",
      "text/plain": [
       "<Figure size 1200x600 with 2 Axes>"
      ]
     },
     "metadata": {},
     "output_type": "display_data"
    }
   ],
   "source": [
    "\n",
    "# Check the shapes of x_raw and y_raw\n",
    "print(f\"x_raw shape: {x_raw.shape}\")\n",
    "print(f\"y_raw shape: {y_raw.shape}\")\n",
    "print(f\"X_test shape: {X_test.shape}\")\n",
    "\n",
    "# Ensure consistent lengths\n",
    "if x_raw.shape[0] != y_raw.shape[0]:\n",
    "    raise ValueError(\"x_raw and y_raw must have the same number of samples\")\n",
    "\n",
    "# Define a list of stop words\n",
    "stop_words = ['a', 'an', 'the', 'and', 'or', 'but', 'if', 'while', 'with', 'without', 'of', 'at', 'by', 'for', 'to', 'in', 'on', 'from', 'up', 'down', 'out', 'over', 'under', 'again', 'further', 'then', 'once', 'here', 'there', 'when', 'where', 'why', 'how', 'all', 'any', 'both', 'each', 'few', 'more', 'most', 'other', 'some', 'such', 'no', 'nor', 'not', 'only', 'own', 'same', 'so', 'than', 'too', 'very', 's', 't', 'can', 'will', 'just', 'don', 'should', 'now']\n",
    "\n",
    "# Identify the indices of the stop words in the vocabulary\n",
    "stop_word_indices = [i for i, word in enumerate(vocab_data) if word in stop_words]\n",
    "\n",
    "# Remove the columns corresponding to the stop words from x_raw and X_test\n",
    "X_no_stop_words = np.delete(x_raw, stop_word_indices, axis=1)\n",
    "X_test_no_stop_words = np.delete(X_test, stop_word_indices, axis=1)\n",
    "\n",
    "# Filter the vocabulary\n",
    "filtered_vocab = np.delete(vocab_data, stop_word_indices)\n",
    "\n",
    "# Check the shape after removing stop words\n",
    "print(f\"Shape after removing stop words: {X_no_stop_words.shape}\")\n",
    "print(f\"Shape after removing stop words from test data: {X_test_no_stop_words.shape}\")\n",
    "\n",
    "# Apply Variance Thresholding to remove low-variance columns\n",
    "threshold = 0.01  # You can adjust this threshold as needed\n",
    "selector = VarianceThreshold(threshold=threshold)\n",
    "X_filtered = selector.fit_transform(X_no_stop_words)\n",
    "X_test_filtered = selector.transform(X_test_no_stop_words)\n",
    "\n",
    "# Check the shape after variance thresholding\n",
    "print(f\"Shape after variance thresholding: {X_filtered.shape}\")\n",
    "print(f\"Shape after variance thresholding on test data: {X_test_filtered.shape}\")\n",
    "\n",
    "# Apply TF-IDF Transformation\n",
    "tfidf_transformer = TfidfTransformer()\n",
    "X_tfidf = tfidf_transformer.fit_transform(X_filtered)\n",
    "X_test_tfidf = tfidf_transformer.transform(X_test_filtered)\n",
    "\n",
    "# Check the shape after TF-IDF transformation\n",
    "print(f\"Shape after TF-IDF transformation: {X_tfidf.shape}\")\n",
    "print(f\"Shape after TF-IDF transformation on test data: {X_test_tfidf.shape}\")\n",
    "\n",
    "# Clip outliers\n",
    "clip_threshold = 0.95  # You can adjust this threshold as needed\n",
    "X_clipped = np.clip(X_tfidf.toarray(), None, clip_threshold)\n",
    "X_test_clipped = np.clip(X_test_tfidf.toarray(), None, clip_threshold)\n",
    "\n",
    "# Check the shape after clipping\n",
    "print(f\"Shape after clipping: {X_clipped.shape}\")\n",
    "print(f\"Shape after clipping on test data: {X_test_clipped.shape}\")\n",
    "\n",
    "# Apply Chi-Square Feature Selection\n",
    "k_best = 1000  # Number of top features to select, adjust as needed\n",
    "chi2_selector = SelectKBest(chi2, k=k_best)\n",
    "X_chi2 = chi2_selector.fit_transform(X_clipped, y_raw)\n",
    "X_test_chi2 = chi2_selector.transform(X_test_clipped)\n",
    "\n",
    "# Check the shape after chi-square feature selection\n",
    "print(f\"Shape after chi-square feature selection: {X_chi2.shape}\")\n",
    "print(f\"Shape after chi-square feature selection on test data: {X_test_chi2.shape}\")\n",
    "\n",
    "# Check the original class distribution\n",
    "print(f\"Original class distribution: {Counter(y_raw)}\")\n",
    "\n",
    "# Apply SMOTE to balance the dataset\n",
    "smote = SMOTE(sampling_strategy='auto', random_state=42)\n",
    "X_resampled, y_resampled = smote.fit_resample(X_chi2, y_raw)\n",
    "\n",
    "# Ensure y_resampled is a 1D array\n",
    "if y_resampled.ndim > 1:\n",
    "    y_resampled = y_resampled.ravel()\n",
    "\n",
    "# Check the resampled class distribution\n",
    "print(f\"Resampled class distribution: {Counter(y_resampled)}\")\n",
    "\n",
    "# Print the shapes of the original and resampled datasets\n",
    "print(f\"Original x_raw shape: {x_raw.shape}\")\n",
    "print(f\"Filtered x_raw shape: {X_filtered.shape}\")\n",
    "print(f\"TF-IDF x_raw shape: {X_tfidf.shape}\")\n",
    "print(f\"Clipped x_raw shape: {X_clipped.shape}\")\n",
    "print(f\"Chi-Square x_raw shape: {X_chi2.shape}\")\n",
    "print(f\"Resampled x_raw shape: {X_resampled.shape}\")\n",
    "print(f\"Original y_raw shape: {y_raw.shape}\")\n",
    "print(f\"Resampled y_raw shape: {y_resampled.shape}\")\n",
    "\n",
    "# Plot the original and resampled class distributions\n",
    "fig, ax = plt.subplots(1, 2, figsize=(12, 6))\n",
    "ax[0].bar(Counter(y_raw).keys(), Counter(y_raw).values())\n",
    "ax[0].set_title('Original Class Distribution')\n",
    "ax[0].set_xlabel('Class')\n",
    "ax[0].set_ylabel('Frequency')\n",
    "\n",
    "ax[1].bar(Counter(y_resampled).keys(), Counter(y_resampled).values())\n",
    "ax[1].set_title('Resampled Class Distribution')\n",
    "ax[1].set_xlabel('Class')\n",
    "ax[1].set_ylabel('Frequency')\n",
    "\n",
    "plt.show()"
   ]
  },
  {
   "cell_type": "markdown",
   "id": "f7467f30-c9df-42dc-8869-f981fb4cae84",
   "metadata": {},
   "source": [
    "# Test which model fits best for the data"
   ]
  },
  {
   "cell_type": "code",
   "execution_count": 73,
   "id": "8ded7cf4-359a-456b-afcf-5d8f2ac5760e",
   "metadata": {},
   "outputs": [],
   "source": [
    "# Define models to train\n",
    "models = {\n",
    "    'Logistic Regression': LogisticRegression(max_iter=1000, random_state=42),\n",
    "    'Naive Bayes': MultinomialNB(),\n",
    "    'Support Vector Machine': SVC(random_state=42),\n",
    "    'Random Forest': RandomForestClassifier(random_state=42)\n",
    "}"
   ]
  },
  {
   "cell_type": "code",
   "execution_count": 74,
   "id": "19d185b1-3a22-4755-aab3-8cc94756ed55",
   "metadata": {},
   "outputs": [
    {
     "name": "stdout",
     "output_type": "stream",
     "text": [
      "Training Logistic Regression...\n",
      "Logistic Regression F1 scores: [0.76595843 0.79364356 0.82635243 0.83222786 0.82792666]\n",
      "Logistic Regression Mean F1 score: 0.809221787617805\n",
      "Training Naive Bayes...\n",
      "Naive Bayes F1 scores: [0.77004991 0.78201644 0.7902269  0.80382003 0.79568996]\n",
      "Naive Bayes Mean F1 score: 0.7883606495149676\n",
      "Training Support Vector Machine...\n",
      "Support Vector Machine F1 scores: [0.81148638 0.86515153 0.90143512 0.91139668 0.9138858 ]\n",
      "Support Vector Machine Mean F1 score: 0.8806711009859478\n",
      "Training Random Forest...\n",
      "Random Forest F1 scores: [0.6363203  0.79088571 0.93127026 0.93941854 0.94545267]\n",
      "Random Forest Mean F1 score: 0.8486694970671026\n"
     ]
    }
   ],
   "source": [
    "# Train models and evaluate using cross-validation\n",
    "best_model = None\n",
    "best_score = 0\n",
    "for model_name, model in models.items():\n",
    "    print(f\"Training {model_name}...\")\n",
    "    cv_scores = cross_val_score(model, X_resampled, y_resampled, cv=5, scoring=make_scorer(f1_score, average='weighted'))\n",
    "    mean_cv_score = np.mean(cv_scores)\n",
    "    print(f\"{model_name} F1 scores: {cv_scores}\")\n",
    "    print(f\"{model_name} Mean F1 score: {mean_cv_score}\")\n",
    "    if mean_cv_score > best_score:\n",
    "        best_score = mean_cv_score\n",
    "        best_model = model"
   ]
  },
  {
   "cell_type": "code",
   "execution_count": 75,
   "id": "475d11dd-3755-4d78-b219-b0c08d473fe3",
   "metadata": {},
   "outputs": [
    {
     "name": "stdout",
     "output_type": "stream",
     "text": [
      "Predictions on test data: [0 0 1 ... 0 0 0]\n"
     ]
    }
   ],
   "source": [
    "# Train the best model on the entire resampled dataset\n",
    "best_model.fit(X_resampled, y_resampled)\n",
    "\n",
    "# Predict on the test data\n",
    "y_test_pred = best_model.predict(X_test_chi2)\n",
    "\n",
    "# Print the predictions\n",
    "print(f\"Predictions on test data: {y_test_pred}\")"
   ]
  },
  {
   "cell_type": "code",
   "execution_count": null,
   "id": "3136a724-9b51-40e9-9156-5d42fb5bc1fe",
   "metadata": {},
   "outputs": [],
   "source": []
  },
  {
   "cell_type": "markdown",
   "id": "7e6356dc-56ae-4aa7-807d-7525eaf2be88",
   "metadata": {},
   "source": [
    "# Download results"
   ]
  },
  {
   "cell_type": "code",
   "execution_count": 79,
   "id": "22d76bd4-7ced-467a-aa28-a55735f2d700",
   "metadata": {},
   "outputs": [],
   "source": [
    "import pandas as pd\n",
    "import os as os"
   ]
  },
  {
   "cell_type": "code",
   "execution_count": 80,
   "id": "58fa3280-9532-4ea9-a23e-e72d9dbe2484",
   "metadata": {},
   "outputs": [],
   "source": [
    "def save_array_with_index(array, filename):\n",
    "    # Create a DataFrame with the array\n",
    "    df = pd.DataFrame(array, columns=['label'])\n",
    "    \n",
    "    # Add the 'id' column using the row index\n",
    "    df['ID'] = df.index\n",
    "    \n",
    "    # Reorder the columns to have 'id' first and 'label' second\n",
    "    df = df[['ID', 'label']]\n",
    "    \n",
    "    # Check if the file exists and save over it\n",
    "    if os.path.exists(filename):\n",
    "        print(f\"File {filename} exists. Saving over it.\")\n",
    "    else:\n",
    "        print(f\"File {filename} does not exist. Creating a new file.\")\n",
    "    \n",
    "    # Save the DataFrame as a CSV file\n",
    "    print(\"Saving\")\n",
    "    df.to_csv(filename, index=False)\n",
    "    print(\"Saved\")"
   ]
  },
  {
   "cell_type": "code",
   "execution_count": 81,
   "id": "52e44600-4c0e-4b30-9c37-caf9adb3386e",
   "metadata": {},
   "outputs": [
    {
     "name": "stdout",
     "output_type": "stream",
     "text": [
      "File prediction_milestone2.csv does not exist. Creating a new file.\n",
      "Saving\n",
      "Saved\n"
     ]
    }
   ],
   "source": [
    "filename = 'prediction_milestone2.csv'\n",
    "\n",
    "save_array_with_index(y_test_pred, filename)"
   ]
  },
  {
   "cell_type": "code",
   "execution_count": null,
   "id": "6faabe9d-1a86-4c41-bdd1-ae229fe9accd",
   "metadata": {},
   "outputs": [],
   "source": []
  }
 ],
 "metadata": {
  "kernelspec": {
   "display_name": "Python 3 (ipykernel)",
   "language": "python",
   "name": "python3"
  },
  "language_info": {
   "codemirror_mode": {
    "name": "ipython",
    "version": 3
   },
   "file_extension": ".py",
   "mimetype": "text/x-python",
   "name": "python",
   "nbconvert_exporter": "python",
   "pygments_lexer": "ipython3",
   "version": "3.12.3"
  }
 },
 "nbformat": 4,
 "nbformat_minor": 5
}
