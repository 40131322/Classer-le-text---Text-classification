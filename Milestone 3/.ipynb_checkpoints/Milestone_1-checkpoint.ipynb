{
 "cells": [
  {
   "cell_type": "markdown",
   "id": "3385548e-a425-4093-b523-511008642710",
   "metadata": {},
   "source": [
    "# Bring Packages"
   ]
  },
  {
   "cell_type": "code",
   "execution_count": 4,
   "id": "7069a99e-b052-4b6b-b8a1-d4ec47cc20cd",
   "metadata": {},
   "outputs": [],
   "source": [
    "import numpy as np\n",
    "import matplotlib.pyplot as plt"
   ]
  },
  {
   "cell_type": "markdown",
   "id": "351bc7a0-7052-4a3f-8afe-cff6e8b9da0e",
   "metadata": {},
   "source": [
    "# Load Data"
   ]
  },
  {
   "cell_type": "code",
   "execution_count": 5,
   "id": "899e4ef0-163c-46da-a85d-1c8f148a26d2",
   "metadata": {},
   "outputs": [
    {
     "name": "stdout",
     "output_type": "stream",
     "text": [
      "Loading training data...\n",
      "Training data loaded.\n",
      "Loading training labels...\n",
      "Training labels loaded.\n",
      "Loading test data...\n",
      "Test data loaded.\n",
      "Loading vocabulary...\n",
      "Vocab data loaded.\n",
      "Training data shape: (9422, 26354)\n",
      "Training labels shape: (9422, 2)\n",
      "Test data shape: (2356, 26354)\n",
      "Vocab data shape: (26354,)\n"
     ]
    }
   ],
   "source": [
    "\n",
    "# Load training data\n",
    "print(\"Loading training data...\")\n",
    "X_train = np.load(\"D:/GitHub/Classer-le-text---Text-classification/Data/data_train.npy\").astype(int)\n",
    "print(\"Training data loaded.\")\n",
    "\n",
    "print(\"Loading training labels...\")\n",
    "y_train = np.loadtxt('D:/GitHub/Classer-le-text---Text-classification/Data/label_train.csv', skiprows=1, delimiter=',').astype(int)\n",
    "print(\"Training labels loaded.\")\n",
    "\n",
    "print(\"Loading test data...\")\n",
    "X_test = np.load(\"D:/GitHub/Classer-le-text---Text-classification/Data/data_test.npy\").astype(int)\n",
    "print(\"Test data loaded.\")\n",
    "\n",
    "print(\"Loading vocabulary...\")\n",
    "vocab_data = np.load(\"D:/GitHub/Classer-le-text---Text-classification/Data/vocab_map.npy\", allow_pickle=True)\n",
    "print(\"Vocab data loaded.\")\n",
    "\n",
    "# Check dimensions\n",
    "print(f\"Training data shape: {X_train.shape}\")\n",
    "print(f\"Training labels shape: {y_train.shape}\")\n",
    "print(f\"Test data shape: {X_test.shape}\")\n",
    "print(f\"Vocab data shape: {vocab_data.shape}\")\n",
    "\n"
   ]
  },
  {
   "cell_type": "code",
   "execution_count": 6,
   "id": "1d5415c9-329e-4720-8638-c646d07321bb",
   "metadata": {},
   "outputs": [
    {
     "data": {
      "text/plain": [
       "(26354,)"
      ]
     },
     "execution_count": 6,
     "metadata": {},
     "output_type": "execute_result"
    }
   ],
   "source": [
    "vocab_data.shape"
   ]
  },
  {
   "cell_type": "code",
   "execution_count": 7,
   "id": "531253c6-2776-49c8-93a3-6b15f2d58d52",
   "metadata": {},
   "outputs": [],
   "source": [
    "x_raw = X_train\n",
    "y_raw = y_train[:,1]"
   ]
  },
  {
   "cell_type": "code",
   "execution_count": 8,
   "id": "69b65f29-354c-4aaf-9da7-2cbd5058645c",
   "metadata": {},
   "outputs": [],
   "source": [
    "def testdf(df):\n",
    "    if isinstance(df, pd.DataFrame):\n",
    "        print(\"The object is a DataFrame.\")\n",
    "    else:\n",
    "        print(\"The object is not a DataFrame.\")\n",
    "\n",
    "def test_if_list(obj):\n",
    "    if isinstance(obj, list):\n",
    "        print(\"The object is a list.\")\n",
    "    else:\n",
    "        print(\"The object is not a list.\")\n",
    "\n",
    "def test_if_tuple(obj):\n",
    "    if isinstance(obj, tuple):\n",
    "        print(\"The object is a tuple.\")\n",
    "    else:\n",
    "        print(\"The object is not a tuple.\")\n",
    "\n",
    "def test_if_array(obj):\n",
    "    if isinstance(obj, np.ndarray):\n",
    "        print(\"The object is a numpy array.\")\n",
    "    else:\n",
    "        print(\"The object is not a numpy array.\")"
   ]
  },
  {
   "cell_type": "markdown",
   "id": "b9baebe5-20d2-4b52-b000-45339e2c29fd",
   "metadata": {},
   "source": [
    "# Model"
   ]
  },
  {
   "cell_type": "code",
   "execution_count": 9,
   "id": "efb4078a-ab0e-4d3a-9c54-374926dbfde3",
   "metadata": {},
   "outputs": [],
   "source": [
    "def compute_class_weights(y):\n",
    "    classes, counts = np.unique(y, return_counts=True)\n",
    "    total_samples = len(y)\n",
    "    class_weights = {cls: total_samples / (len(classes) * count) for cls, count in zip(classes, counts)}\n",
    "    return class_weights\n",
    "\n",
    "def weighted_binary_cross_entropy(y_true, y_pred, class_weights):\n",
    "    epsilon = 1e-15  # To avoid log(0)\n",
    "    y_pred = np.clip(y_pred, epsilon, 1 - epsilon)\n",
    "    weights = np.vectorize(class_weights.get)(y_true)\n",
    "    loss = -np.mean(weights * (y_true * np.log(y_pred) + (1 - y_true) * np.log(1 - y_pred)))\n",
    "    return loss"
   ]
  },
  {
   "cell_type": "code",
   "execution_count": 10,
   "id": "e737cb61-bf5c-4f40-8ba0-1bd8cc63dd4e",
   "metadata": {},
   "outputs": [],
   "source": [
    "class GaussianMaxLikelihood:\n",
    "    def __init__(self, n_dims):\n",
    "        self.n_dims = n_dims\n",
    "        self.mu = np.zeros(n_dims)\n",
    "        # We only save a scalar standard deviation because our model is the isotropic Gaussian\n",
    "        self.sigma_sq = 1.0\n",
    "\n",
    "    # For a training set, the function should compute the ML estimator of the mean and the variance\n",
    "    def train(self, train_data,weights = None):\n",
    "        # Here, you have to find the mean and variance of the train_data data and put it in self.mu and self.sigma_sq\n",
    "        ### Using the expressions derived above\n",
    "        if weights is None:\n",
    "            weights = np.ones(train_data.shape[0])\n",
    "        self.mu = np.average(train_data, axis=0, weights=weights)\n",
    "        self.sigma_sq = np.average((train_data - self.mu) ** 2.0, axis=0, weights=weights).mean()\n",
    "\n",
    "\n",
    "    # Returns a vector of size nb. of test ex. containing the log probabilities of each test example under the model.\n",
    "    # exemple test\n",
    "    def loglikelihood(self, test_data):\n",
    "        ### a is the log of the first term (1/(sigma sqrt(2pi))) in the isotropic probability distribution in the image above\n",
    "        ### We are using log(ab) = log(a)+log(b) where a is 1/(sigma sqrt(2pi)) and b is exp(-||x-mu||^2/(2*sigma^2)). Again see the image above.\n",
    "        a = self.n_dims * -(np.log(np.sqrt(self.sigma_sq)) + (1 / 2) * np.log(2 * np.pi))\n",
    "        log_prob = a - np.sum((test_data - self.mu) ** 2.0, axis=1) / (2.0 * self.sigma_sq)\n",
    "        return log_prob\n"
   ]
  },
  {
   "cell_type": "code",
   "execution_count": 11,
   "id": "2d0cdbbc-8476-40fb-91b1-3faca4227d90",
   "metadata": {},
   "outputs": [],
   "source": [
    "class BayesClassifier:\n",
    "    def __init__(self, maximum_likelihood_models, priors):\n",
    "        self.maximum_likelihood_models = maximum_likelihood_models ### a list of multi-variate MaxLikelihoodGaussians for each class\n",
    "        self.priors = priors\n",
    "        if len(self.maximum_likelihood_models) != len(self.priors):\n",
    "            print('The number of ML models must be equal to the number of priors!')\n",
    "        self.n_classes = len(self.maximum_likelihood_models)\n",
    "\n",
    "    # Returns a matrix of size number of test ex. times number of classes containing the log\n",
    "    # probabilities of each test example under each model, trained by ML.\n",
    "    def loglikelihood(self, test_data):\n",
    "\n",
    "        log_pred = np.zeros((test_data.shape[0], self.n_classes))\n",
    "\n",
    "        for i in range(self.n_classes):\n",
    "            # Here, we will have to use maximum_likelihood_models[i] and priors to fill in for each class\n",
    "            # each column of log_pred (it's more efficient to do a entire column at a time)\n",
    "            log_pred[:, i] = self.maximum_likelihood_models[i].loglikelihood(test_data) + np.log(self.priors[i])\n",
    "\n",
    "        return log_pred"
   ]
  },
  {
   "cell_type": "markdown",
   "id": "0209f805-a125-4271-8ec2-cae22ae5f460",
   "metadata": {},
   "source": [
    "# Data Cleaning"
   ]
  },
  {
   "cell_type": "code",
   "execution_count": 12,
   "id": "8035836b-7e24-43ff-a9fa-0f2786e978d7",
   "metadata": {},
   "outputs": [
    {
     "data": {
      "image/png": "[encoded data removed]",
      "text/plain": [
       "<Figure size 800x600 with 1 Axes>"
      ]
     },
     "metadata": {},
     "output_type": "display_data"
    }
   ],
   "source": [
    "# Extract the class labels from the second column of y_train\n",
    "class_labels = y_raw\n",
    "\n",
    "# Count the occurrences of class 0 and class 1\n",
    "unique, counts = np.unique(class_labels, return_counts=True)\n",
    "count_dict = dict(zip(unique, counts))\n",
    "\n",
    "# Create a bar chart\n",
    "plt.figure(figsize=(8, 6))\n",
    "plt.bar(count_dict.keys(), count_dict.values(), color=['blue', 'orange'])\n",
    "plt.xlabel('Class')\n",
    "plt.ylabel('Count')\n",
    "plt.title('Count of 0s and 1s')\n",
    "plt.xticks([0, 1], ['Class 0', 'Class 1'])\n",
    "plt.grid(True)\n",
    "plt.show()"
   ]
  },
  {
   "cell_type": "code",
   "execution_count": 13,
   "id": "04e00311-36de-4240-9323-327fedb8e9f6",
   "metadata": {},
   "outputs": [
    {
     "name": "stdout",
     "output_type": "stream",
     "text": [
      "Difference in counts: 4826\n",
      "Ratio of counts: 3.10\n"
     ]
    }
   ],
   "source": [
    "# Calculate the difference and ratio of counts\n",
    "count_diff = abs(count_dict[0] - count_dict[1])\n",
    "count_ratio = count_dict[0] / count_dict[1] if count_dict[1] != 0 else float('inf')\n",
    "\n",
    "# Print the results\n",
    "print(f\"Difference in counts: {count_diff}\")\n",
    "print(f\"Ratio of counts: {count_ratio:.2f}\")"
   ]
  },
  {
   "cell_type": "code",
   "execution_count": 14,
   "id": "1020264f-fb97-4244-a212-b17a8793c167",
   "metadata": {},
   "outputs": [
    {
     "name": "stdout",
     "output_type": "stream",
     "text": [
      "Class percentages for Training Dataset:\n",
      "Class 0: 75.61%\n",
      "Class 1: 24.39%\n"
     ]
    }
   ],
   "source": [
    "def print_class_percentages(y, dataset_name):\n",
    "    unique, counts = np.unique(y, return_counts=True)\n",
    "    total = len(y)\n",
    "    percentages = {cls: (count / total) * 100 for cls, count in zip(unique, counts)}\n",
    "    \n",
    "    print(f\"Class percentages for {dataset_name}:\")\n",
    "    for cls, percentage in percentages.items():\n",
    "        print(f\"Class {cls}: {percentage:.2f}%\")\n",
    "\n",
    "# Print class percentages for training and test datasets\n",
    "print_class_percentages(class_labels, \"Training Dataset\")\n"
   ]
  },
  {
   "cell_type": "markdown",
   "id": "8f032076-dce1-4980-ba62-29087de5871f",
   "metadata": {},
   "source": [
    "## See on average how often does a word appear in text"
   ]
  },
  {
   "cell_type": "code",
   "execution_count": 15,
   "id": "96b961f2-8fc9-4272-9d5c-140b2638d86f",
   "metadata": {},
   "outputs": [
    {
     "data": {
      "image/png": "[encoded data removed]",
      "text/plain": [
       "<Figure size 1000x600 with 1 Axes>"
      ]
     },
     "metadata": {},
     "output_type": "display_data"
    }
   ],
   "source": [
    "column_means = np.mean(X_train, axis=0)\n",
    "# Plot the mean values\n",
    "plt.figure(figsize=(10, 6))\n",
    "plt.bar(range(len(column_means)), column_means)\n",
    "plt.xlabel('Column Index')\n",
    "plt.ylabel('Mean Value')\n",
    "plt.ylim(0, 1)\n",
    "plt.title('Mean Value of Each Column in Training Data')\n",
    "plt.show()"
   ]
  },
  {
   "cell_type": "code",
   "execution_count": 16,
   "id": "e81e747f-dddd-4538-b3b8-7b1ef8e42b84",
   "metadata": {},
   "outputs": [
    {
     "name": "stdout",
     "output_type": "stream",
     "text": [
      "[False False False ... False False False]\n"
     ]
    }
   ],
   "source": [
    "# Calculate the mean of each column\n",
    "column_means = np.mean(X_train, axis=0)\n",
    "\n",
    "# Calculate the frequency of non-zero values in each column\n",
    "non_zero_frequencies = np.count_nonzero(X_train, axis=0) / X_train.shape[0]\n",
    "\n",
    "# Define the criteria\n",
    "mean_threshold = 0.1\n",
    "frequency_threshold = 0.1\n",
    "\n",
    "# Filter columns based on the criteria\n",
    "columns_to_keep = (column_means >= mean_threshold) & (non_zero_frequencies >= frequency_threshold)\n",
    "X_train_filtered = X_train[:, columns_to_keep]\n",
    "\n",
    "print(columns_to_keep)"
   ]
  },
  {
   "cell_type": "code",
   "execution_count": 17,
   "id": "ad6db855-5c7a-432e-8f28-36995cea247a",
   "metadata": {},
   "outputs": [
    {
     "data": {
      "text/plain": [
       "array(['accuracy', 'algorithm', 'algorithms', 'all', 'also', 'an',\n",
       "       'analysis', 'and', 'applications', 'approach', 'approaches', 'are',\n",
       "       'art', 'as', 'at', 'based', 'be', 'been', 'better', 'between',\n",
       "       'both', 'but', 'by', 'can', 'classification', 'data', 'datasets',\n",
       "       'deep', 'demonstrate', 'different', 'each', 'efficient',\n",
       "       'existing', 'experiments', 'features', 'first', 'for', 'framework',\n",
       "       'from', 'given', 'has', 'have', 'high', 'how', 'however', 'in',\n",
       "       'information', 'into', 'is', 'it', 'its', 'knowledge', 'language',\n",
       "       'large', 'learning', 'machine', 'many', 'method', 'methods',\n",
       "       'model', 'models', 'more', 'most', 'network', 'networks', 'neural',\n",
       "       'new', 'non', 'not', 'novel', 'number', 'of', 'on', 'one', 'only',\n",
       "       'or', 'order', 'other', 'our', 'over', 'paper', 'performance',\n",
       "       'present', 'problem', 'problems', 'propose', 'proposed', 'provide',\n",
       "       'real', 'results', 'set', 'several', 'show', 'some', 'state',\n",
       "       'study', 'such', 'system', 'systems', 'task', 'tasks', 'than',\n",
       "       'that', 'the', 'their', 'then', 'these', 'they', 'this', 'time',\n",
       "       'to', 'training', 'two', 'use', 'used', 'using', 'we', 'well',\n",
       "       'when', 'where', 'which', 'while', 'with', 'work'], dtype=object)"
      ]
     },
     "execution_count": 17,
     "metadata": {},
     "output_type": "execute_result"
    }
   ],
   "source": [
    "vocab_data[columns_to_keep]"
   ]
  },
  {
   "cell_type": "code",
   "execution_count": 18,
   "id": "a5978ec5-ba7e-43ef-8766-68d7bcc63406",
   "metadata": {},
   "outputs": [
    {
     "data": {
      "image/png": "[encoded data removed]",
      "text/plain": [
       "<Figure size 1000x600 with 1 Axes>"
      ]
     },
     "metadata": {},
     "output_type": "display_data"
    }
   ],
   "source": [
    "column_means = np.mean(X_train_filtered, axis=0)\n",
    "# Plot the mean values\n",
    "plt.figure(figsize=(10, 6))\n",
    "plt.bar(range(len(column_means)), column_means)\n",
    "plt.xlabel('Column Index')\n",
    "plt.ylabel('Mean Value')\n",
    "plt.ylim(0, 10)\n",
    "plt.title('Mean Value of Each Column in Training Data')\n",
    "plt.show()"
   ]
  },
  {
   "cell_type": "code",
   "execution_count": 19,
   "id": "a5b67012-57dd-45d9-97b4-8f65dfd1137c",
   "metadata": {},
   "outputs": [
    {
     "name": "stdout",
     "output_type": "stream",
     "text": [
      "[   4    8    9 ... 9410 9412 9418]\n",
      "[   0    1    2 ... 9419 9420 9421]\n"
     ]
    }
   ],
   "source": [
    "ind_class0 = (y_raw==1).nonzero()[0]\n",
    "print(ind_class0)\n",
    "ind_class1 = (y_raw==0).nonzero()[0]\n",
    "print(ind_class1)"
   ]
  },
  {
   "cell_type": "code",
   "execution_count": 20,
   "id": "165a2ac5-958b-4af3-831d-f847f2a755cf",
   "metadata": {},
   "outputs": [
    {
     "data": {
      "text/plain": [
       "[<matplotlib.lines.Line2D at 0x10b3d750650>]"
      ]
     },
     "execution_count": 20,
     "metadata": {},
     "output_type": "execute_result"
    },
    {
     "data": {
      "image/png": "[encoded data removed]",
      "text/plain": [
       "<Figure size 1300x500 with 1 Axes>"
      ]
     },
     "metadata": {},
     "output_type": "display_data"
    }
   ],
   "source": [
    "plt.figure(figsize=(13,5))\n",
    "plt.plot(X_train[ind_class0,:].mean(axis=0),alpha=0.5)\n",
    "plt.plot(X_train[ind_class1,:].mean(axis=0),alpha=0.5)\n",
    "# plt.semilogy()\n",
    "# plt.ylim(0.1,2)"
   ]
  },
  {
   "cell_type": "markdown",
   "id": "9fa307a0-7ce7-406c-9f5c-458b0b919f99",
   "metadata": {},
   "source": [
    "# Increase under represented class 1using SMOTE"
   ]
  },
  {
   "cell_type": "code",
   "execution_count": 21,
   "id": "f4193f02-1c00-4cf2-a822-3807a7af3eb5",
   "metadata": {},
   "outputs": [],
   "source": [
    "def smote(X, y, minority_class, N):\n",
    "    \"\"\"\n",
    "    Synthetic Minority Over-sampling Technique (SMOTE) implementation using numpy.\n",
    "    \n",
    "    Parameters:\n",
    "    - X: Feature matrix\n",
    "    - y: Labels\n",
    "    - minority_class: The class to be oversampled\n",
    "    - N: Number of synthetic samples to generate\n",
    "    \n",
    "    Returns:\n",
    "    - X_resampled: Feature matrix after SMOTE\n",
    "    - y_resampled: Labels after SMOTE\n",
    "    \"\"\"\n",
    "    # Extract minority class samples\n",
    "    X_minority = X[y == minority_class]\n",
    "    \n",
    "    # Number of minority samples\n",
    "    n_minority_samples = X_minority.shape[0]\n",
    "    \n",
    "    # Number of features\n",
    "    n_features = X_minority.shape[1]\n",
    "    \n",
    "    # Initialize synthetic samples array\n",
    "    synthetic_samples = np.zeros((N, n_features))\n",
    "    \n",
    "    for i in range(N):\n",
    "        # Randomly choose two minority samples\n",
    "        idx1, idx2 = np.random.choice(n_minority_samples, 2, replace=False)\n",
    "        sample1, sample2 = X_minority[idx1], X_minority[idx2]\n",
    "        \n",
    "        # Generate a synthetic sample\n",
    "        diff = sample2 - sample1\n",
    "        gap = np.random.rand()\n",
    "        synthetic_sample = sample1 + gap * diff\n",
    "        \n",
    "        # Ensure the synthetic sample is integer\n",
    "        synthetic_samples[i] = np.round(synthetic_sample).astype(int)\n",
    "    \n",
    "    # Combine original data with synthetic samples\n",
    "    X_resampled = np.vstack((X, synthetic_samples))\n",
    "    y_resampled = np.hstack((y, np.full(N, minority_class)))\n",
    "    \n",
    "    return X_resampled, y_resampled"
   ]
  },
  {
   "cell_type": "code",
   "execution_count": 22,
   "id": "409d7ea8-8d36-4da8-9aeb-6f868ce1135b",
   "metadata": {},
   "outputs": [],
   "source": [
    "minority_class = 1  # Replace with your minority class label\n",
    "\n",
    "\n",
    "\n",
    "N = 4826  # Number of synthetic samples to generate (difference in class 0 and class 1 data)\n",
    "X_resampled, y_resampled = smote(x_raw, y_raw, minority_class, N)"
   ]
  },
  {
   "cell_type": "code",
   "execution_count": 23,
   "id": "c9d41a35-380e-4bc0-825b-1b851a617601",
   "metadata": {},
   "outputs": [
    {
     "data": {
      "image/png": "[encoded data removed]",
      "text/plain": [
       "<Figure size 800x600 with 1 Axes>"
      ]
     },
     "metadata": {},
     "output_type": "display_data"
    }
   ],
   "source": [
    "# Extract the class labels from the second column of y_train\n",
    "class_labels = y_resampled\n",
    "\n",
    "# Count the occurrences of class 0 and class 1\n",
    "unique, counts = np.unique(class_labels, return_counts=True)\n",
    "count_dict = dict(zip(unique, counts))\n",
    "\n",
    "# Create a bar chart\n",
    "plt.figure(figsize=(8, 6))\n",
    "plt.bar(count_dict.keys(), count_dict.values(), color=['blue', 'orange'])\n",
    "plt.xlabel('Class')\n",
    "plt.ylabel('Count')\n",
    "plt.title('Count of 0s and 1s')\n",
    "plt.xticks([0, 1], ['Class 0', 'Class 1'])\n",
    "plt.grid(True)\n",
    "plt.show()"
   ]
  },
  {
   "cell_type": "markdown",
   "id": "9e4a3e91-65cd-4c63-b7bb-d35d6d7efd05",
   "metadata": {},
   "source": [
    "## Identify the means of appearance of words when class 1 vs when class 0 and finding the words with the largest difference of appearances"
   ]
  },
  {
   "cell_type": "code",
   "execution_count": 24,
   "id": "bf791b6e-2977-4095-8c86-5739408d2a2e",
   "metadata": {},
   "outputs": [],
   "source": [
    "X_train = X_resampled\n",
    "y_train = y_resampled"
   ]
  },
  {
   "cell_type": "code",
   "execution_count": 25,
   "id": "7978d162-4ec6-4dad-a198-d1d2ba74d64b",
   "metadata": {},
   "outputs": [
    {
     "name": "stdout",
     "output_type": "stream",
     "text": [
      "['the', 'of', 'and', 'we', 'in', 'to', 'is', 'our', 'models', 'that', 'this', 'model', 'neural', 'are', 'system', 'learning', 'paper', 'on', 'for', 'based', 'systems', 'used', 'data', 'show', 'an', 'be', 'art', 'tasks', 'matrix', 'convex']\n"
     ]
    }
   ],
   "source": [
    "# Calculate the mean appearance of each word for each class\n",
    "mean_appearance_class_0 = X_train[y_train == 0].mean(axis=0)\n",
    "mean_appearance_class_1 = X_train[y_train == 1].mean(axis=0)\n",
    "\n",
    "# Compute the absolute difference in mean appearance between the two classes\n",
    "mean_difference = np.abs(mean_appearance_class_0 - mean_appearance_class_1)\n",
    "\n",
    "# Identify the words with the largest differences\n",
    "largest_diff_indices = np.argsort(mean_difference)[::-1]  # Sort indices in descending order of difference\n",
    "\n",
    "top_n = 30  # Number of top words to display\n",
    "top_words = [vocab_data[i] for i in largest_diff_indices[:top_n]]\n",
    "print(top_words)\n"
   ]
  },
  {
   "cell_type": "code",
   "execution_count": 26,
   "id": "393a9ea9-87f9-40d1-908b-d5bbd346a382",
   "metadata": {},
   "outputs": [
    {
     "data": {
      "text/plain": [
       "array([0.00028074, 0.0047726 , 0.00014037, ..., 0.00028074, 0.00028074,\n",
       "       0.00210556])"
      ]
     },
     "execution_count": 26,
     "metadata": {},
     "output_type": "execute_result"
    }
   ],
   "source": [
    "mean_difference"
   ]
  },
  {
   "cell_type": "code",
   "execution_count": 27,
   "id": "d30bd311-8a51-4923-90dc-55471febbefc",
   "metadata": {},
   "outputs": [
    {
     "ename": "MemoryError",
     "evalue": "Unable to allocate 2.80 GiB for an array with shape (26354, 14248) and data type float64",
     "output_type": "error",
     "traceback": [
      "\u001b[1;31m---------------------------------------------------------------------------\u001b[0m",
      "\u001b[1;31mMemoryError\u001b[0m                               Traceback (most recent call last)",
      "Cell \u001b[1;32mIn[27], line 9\u001b[0m\n\u001b[0;32m      6\u001b[0m columns_to_drop \u001b[38;5;241m=\u001b[39m np\u001b[38;5;241m.\u001b[39mwhere(column_means \u001b[38;5;241m==\u001b[39m \u001b[38;5;241m0\u001b[39m)[\u001b[38;5;241m0\u001b[39m]\n\u001b[0;32m      8\u001b[0m \u001b[38;5;66;03m# Drop these columns from the dataset\u001b[39;00m\n\u001b[1;32m----> 9\u001b[0m X_train_zero_dropped \u001b[38;5;241m=\u001b[39m np\u001b[38;5;241m.\u001b[39mdelete(X_train, columns_to_drop, axis\u001b[38;5;241m=\u001b[39m\u001b[38;5;241m1\u001b[39m)\n",
      "File \u001b[1;32m~\\anaconda3\\Lib\\site-packages\\numpy\\lib\\function_base.py:5357\u001b[0m, in \u001b[0;36mdelete\u001b[1;34m(arr, obj, axis)\u001b[0m\n\u001b[0;32m   5354\u001b[0m         keep[obj,] \u001b[38;5;241m=\u001b[39m \u001b[38;5;28;01mFalse\u001b[39;00m\n\u001b[0;32m   5356\u001b[0m     slobj[axis] \u001b[38;5;241m=\u001b[39m keep\n\u001b[1;32m-> 5357\u001b[0m     new \u001b[38;5;241m=\u001b[39m arr[\u001b[38;5;28mtuple\u001b[39m(slobj)]\n\u001b[0;32m   5359\u001b[0m \u001b[38;5;28;01mif\u001b[39;00m wrap:\n\u001b[0;32m   5360\u001b[0m     \u001b[38;5;28;01mreturn\u001b[39;00m wrap(new)\n",
      "\u001b[1;31mMemoryError\u001b[0m: Unable to allocate 2.80 GiB for an array with shape (26354, 14248) and data type float64"
     ]
    }
   ],
   "source": [
    "#Remove the useless data\n",
    "# Calculate the mean of each column\n",
    "column_means = X_train.mean(axis=0)\n",
    "\n",
    "# Identify columns where the mean is zero\n",
    "columns_to_drop = np.where(column_means == 0)[0]\n",
    "\n",
    "# Drop these columns from the dataset\n",
    "X_train_zero_dropped = np.delete(X_train, columns_to_drop, axis=1)\n",
    "\n"
   ]
  },
  {
   "cell_type": "code",
   "execution_count": null,
   "id": "6755b82c-a160-4a89-9060-e2540e143a34",
   "metadata": {},
   "outputs": [],
   "source": [
    "#log transform the data\n",
    "\n",
    "x_log = np.log(X_train_zero_dropped+1)"
   ]
  },
  {
   "cell_type": "code",
   "execution_count": null,
   "id": "8fbd58b9-e627-46f3-b1fa-18035fc16065",
   "metadata": {},
   "outputs": [],
   "source": [
    "x_raw.shape"
   ]
  },
  {
   "cell_type": "code",
   "execution_count": null,
   "id": "22f1fe1d-3e2a-4ddb-b627-661580784c69",
   "metadata": {},
   "outputs": [],
   "source": [
    "y_raw.shape"
   ]
  },
  {
   "cell_type": "code",
   "execution_count": null,
   "id": "8d5afce2-7a40-4de6-a522-79e12bfa6f54",
   "metadata": {},
   "outputs": [],
   "source": [
    "len(column_means)"
   ]
  },
  {
   "cell_type": "code",
   "execution_count": null,
   "id": "c0b90e9d-f227-48a7-8fd4-691702f8160a",
   "metadata": {},
   "outputs": [],
   "source": [
    "column_means = np.mean(x_log, axis=0)\n",
    "means = np.mean(x_log, axis=1)\n",
    "std = column_means.std()\n",
    "means\n"
   ]
  },
  {
   "cell_type": "code",
   "execution_count": null,
   "id": "cc48bfb9-6eb4-4e3a-a30a-d03e1a581a95",
   "metadata": {},
   "outputs": [],
   "source": [
    "np.mean(column_means)"
   ]
  },
  {
   "cell_type": "code",
   "execution_count": null,
   "id": "6b9340e4-c972-42d7-96de-264131c0c297",
   "metadata": {},
   "outputs": [],
   "source": [
    "np.std(column_means)"
   ]
  },
  {
   "cell_type": "code",
   "execution_count": null,
   "id": "7869fd01-201a-41be-b60d-135496c4aa58",
   "metadata": {},
   "outputs": [],
   "source": [
    "column_means = np.mean(x_log, axis=0)\n",
    "# Plot the mean values\n",
    "plt.figure(figsize=(10, 6))\n",
    "plt.bar(range(len(column_means)), column_means)\n",
    "plt.xlabel('Column Index')\n",
    "plt.ylabel('Mean Value')\n",
    "plt.ylim(0, 3)\n",
    "plt.title('Mean Value of Each Column in log transformed Training Data')\n",
    "plt.show()"
   ]
  },
  {
   "cell_type": "code",
   "execution_count": null,
   "id": "ab903f29-1b8a-4c4f-8b3b-eae3389ee540",
   "metadata": {},
   "outputs": [],
   "source": [
    "column_means = np.mean(X_train_zero_dropped, axis=0)\n",
    "# Plot the mean values\n",
    "plt.figure(figsize=(10, 6))\n",
    "plt.bar(range(len(column_means)), column_means)\n",
    "plt.xlabel('Column Index')\n",
    "plt.ylabel('Mean Value')\n",
    "plt.ylim(0, 3)\n",
    "plt.title('Mean Value of Each Column in Training Data')\n",
    "plt.show()"
   ]
  },
  {
   "cell_type": "code",
   "execution_count": null,
   "id": "bed28503-fb6a-4434-9b86-d7b92a97c038",
   "metadata": {},
   "outputs": [],
   "source": [
    "def remove_columns_by_mean(X, threshold):\n",
    "    \"\"\"\n",
    "    Remove columns based on the mean of the column values.\n",
    "    \n",
    "    Parameters:\n",
    "    - X: Feature matrix\n",
    "    - threshold: Mean value threshold for removing columns\n",
    "    \n",
    "    Returns:\n",
    "    - X_filtered: Feature matrix with specified columns removed\n",
    "    \"\"\"\n",
    "    # Calculate column mean and standard deviation for column means\n",
    "    column_means = np.mean(X, axis=0)\n",
    "    means = np.mean(column_means)\n",
    "    stds = np.std(column_means)\n",
    "\n",
    "    print(means)\n",
    "    print(stds)\n",
    "    # Identify outliers\n",
    "    lower_bound = means - threshold * stds\n",
    "    upper_bound = means + threshold * stds\n",
    "    \n",
    "    # Create a mask for rows without outliers\n",
    "    mask = np.where((column_means >= lower_bound) & (column_means <= upper_bound))[0]\n",
    "    \n",
    "\n",
    "    return mask"
   ]
  },
  {
   "cell_type": "code",
   "execution_count": null,
   "id": "16f03187-390b-4aa8-9829-406fd0bfdea3",
   "metadata": {},
   "outputs": [],
   "source": [
    "    # Filter out rows with outliers\n",
    "mask = remove_columns_by_mean(x_raw,1)   \n",
    "x_wo_outliers =  x_raw[:, mask]"
   ]
  },
  {
   "cell_type": "code",
   "execution_count": null,
   "id": "c879446d-aa11-496d-9417-98b4e312fb85",
   "metadata": {},
   "outputs": [],
   "source": [
    "print(x_wo_outliers.shape)\n",
    "print(x_raw.shape)"
   ]
  },
  {
   "cell_type": "code",
   "execution_count": null,
   "id": "6ea415cd-349f-4571-b858-cddcdbfb6290",
   "metadata": {},
   "outputs": [],
   "source": [
    "column_means = np.mean(x_wo_outliers, axis=0)\n",
    "print(column_means)"
   ]
  },
  {
   "cell_type": "code",
   "execution_count": null,
   "id": "475995ee-3080-4c35-a1bb-a80554c5961d",
   "metadata": {},
   "outputs": [],
   "source": [
    "column_means = np.mean(x_wo_outliers, axis=0)\n",
    "# Plot the mean values\n",
    "plt.figure(figsize=(10, 6))\n",
    "plt.bar(range(len(column_means)), column_means)\n",
    "plt.xlabel('Column Index')\n",
    "plt.ylabel('Mean Value')\n",
    "plt.ylim(0, 1)\n",
    "plt.title('Mean Value of Each Column in Training Data')\n",
    "plt.show()"
   ]
  },
  {
   "cell_type": "code",
   "execution_count": null,
   "id": "ef2fd13e-2e86-4362-9e70-2649651276ec",
   "metadata": {},
   "outputs": [],
   "source": [
    "x_log = np.log(1+x_wo_outliers)\n",
    "column_means = np.mean(x_log, axis=0)\n",
    "# Plot the mean values\n",
    "plt.figure(figsize=(10, 6))\n",
    "plt.bar(range(len(column_means)), column_means)\n",
    "plt.xlabel('Column Index')\n",
    "plt.ylabel('Mean Value')\n",
    "plt.ylim(0, 2.5)\n",
    "plt.title('Mean Value of Each Column in Training Data')\n",
    "plt.show()"
   ]
  },
  {
   "cell_type": "markdown",
   "id": "43c96773-d150-452b-8e2e-f37d21ba08cf",
   "metadata": {},
   "source": [
    "## Stop words removal"
   ]
  },
  {
   "cell_type": "code",
   "execution_count": null,
   "id": "a5daa7ed-520d-44fd-9add-43cb1649e87f",
   "metadata": {},
   "outputs": [],
   "source": [
    "# Define a list of stop words\n",
    "stop_words = ['a', 'an', 'the', 'and', 'or', 'but', 'if', 'while', 'with', 'without', 'of', 'at', 'by', 'for', 'to', 'in', 'on', 'from', 'up', 'down', 'out', 'over', 'under', 'again', 'further', 'then', 'once', 'here', 'there', 'when', 'where', 'why', 'how', 'all', 'any', 'both', 'each', 'few', 'more', 'most', 'other', 'some', 'such', 'no', 'nor', 'not', 'only', 'own', 'same', 'so', 'than', 'too', 'very', 's', 't', 'can', 'will', 'just', 'don', 'should', 'now']\n",
    "\n",
    "# Identify the indices of the stop words in the vocabulary\n",
    "stop_word_indices = [i for i, word in enumerate(vocab_data) if word in stop_words]\n",
    "\n",
    "print(stop_word_indices)"
   ]
  },
  {
   "cell_type": "markdown",
   "id": "4d97f332-d38c-4b3a-b4f7-68d61591c94a",
   "metadata": {},
   "source": [
    "## Selecting how many variables to include in the ML"
   ]
  },
  {
   "cell_type": "code",
   "execution_count": null,
   "id": "dad9694f-0cb8-4d0f-9b67-cd37d9c06b50",
   "metadata": {},
   "outputs": [],
   "source": [
    "top_n = 50"
   ]
  },
  {
   "cell_type": "code",
   "execution_count": null,
   "id": "762bb9da-0aeb-471f-90fa-933999abb811",
   "metadata": {},
   "outputs": [],
   "source": [
    "# Sort the mean differences and get the corresponding words\n",
    "sorted_indices = np.argsort(mean_difference)[::-1]  # Sort in descending order\n",
    "sorted_mean_difference = mean_difference[sorted_indices]\n",
    "sorted_words = [vocab_data[i] for i in sorted_indices]\n",
    "\n",
    "\n",
    "\n",
    "# Plot the histogram\n",
    "plt.figure(figsize=(12, 8))\n",
    "plt.bar(sorted_words[:top_n], sorted_mean_difference[:top_n])  # Plot top 20 words\n",
    "plt.xlabel('Words')\n",
    "plt.ylabel('Mean Difference')\n",
    "plt.title(f'Top {top_n} Words with the Largest Difference in Mean Appearance Between Classes 0 and 1')\n",
    "plt.xticks(rotation=90)  # Rotate x-axis labels for better readability\n",
    "plt.show()"
   ]
  },
  {
   "cell_type": "code",
   "execution_count": null,
   "id": "28d79ffd-6a7f-476a-a63f-221f46516717",
   "metadata": {},
   "outputs": [],
   "source": [
    "top_n_indices = np.argsort(mean_difference)[-top_n:]  # Get the top n indices\n",
    "\n",
    "# Filter X_train to only include the columns of the top n differences\n",
    "X_train_filtered = X_train[:, top_n_indices]\n"
   ]
  },
  {
   "cell_type": "code",
   "execution_count": null,
   "id": "75d206f4-5485-4f47-b7cb-0d3448ef780e",
   "metadata": {},
   "outputs": [],
   "source": [
    "print(y_train)"
   ]
  },
  {
   "cell_type": "markdown",
   "id": "5c37d4cc-bca9-4c18-aeb2-6b9aa5a3beea",
   "metadata": {},
   "source": [
    "# Train\n"
   ]
  },
  {
   "cell_type": "markdown",
   "id": "b3db6cfb-58f2-4e4e-92ee-694a1616325a",
   "metadata": {},
   "source": [
    "# Evaluate the model for different numbers of top words"
   ]
  },
  {
   "cell_type": "markdown",
   "id": "3b8e3b4d-e5b3-461f-8b86-43bbcba7c2e9",
   "metadata": {},
   "source": [
    "## F1 Score"
   ]
  },
  {
   "cell_type": "code",
   "execution_count": null,
   "id": "12ffa525-7d8a-4a55-9cdc-452a2beb53d7",
   "metadata": {},
   "outputs": [],
   "source": [
    "def get_mean_difference(topn,x,y):\n",
    "    # Calculate the mean appearance of each word for each class\n",
    "    mean_appearance_class_0 = x[y == 0].mean(axis=0)\n",
    "    mean_appearance_class_1 = x[y == 1].mean(axis=0)\n",
    "    \n",
    "    # Compute the absolute difference in mean appearance between the two classes\n",
    "    mean_difference = np.abs(mean_appearance_class_0 - mean_appearance_class_1)\n",
    "  \n",
    "\n",
    "    return mean_difference\n",
    "\n"
   ]
  },
  {
   "cell_type": "code",
   "execution_count": null,
   "id": "05377426-597e-4a1b-bcb5-7b54e834f2b7",
   "metadata": {},
   "outputs": [],
   "source": [
    "def precision_recall(y_pred, y_true):\n",
    "    \"\"\"\n",
    "    Calculate precision and recall using only NumPy.\n",
    "    \n",
    "    Parameters:\n",
    "    - y_pred: Predicted labels\n",
    "    - y_true: True labels\n",
    "    \n",
    "    Returns:\n",
    "    - precision: Precision score\n",
    "    - recall: Recall score\n",
    "    \"\"\"\n",
    "    # Convert to NumPy arrays\n",
    "    y_pred = np.array(y_pred)\n",
    "    y_true = np.array(y_true)\n",
    "    \n",
    "    # Calculate True Positives (TP), False Positives (FP), and False Negatives (FN)\n",
    "    TP = np.sum((y_pred == 1) & (y_true == 1))\n",
    "    FP = np.sum((y_pred == 1) & (y_true == 0))\n",
    "    FN = np.sum((y_pred == 0) & (y_true == 1))\n",
    "    \n",
    "    # Calculate precision and recall\n",
    "    precision = TP / (TP + FP) if (TP + FP) > 0 else 0\n",
    "    recall = TP / (FN + TP) if (FN + TP) > 0 else 0\n",
    "    \n",
    "    return precision, recall\n"
   ]
  },
  {
   "cell_type": "code",
   "execution_count": null,
   "id": "a32f52b5-158d-446e-be5c-c55530aedf73",
   "metadata": {},
   "outputs": [],
   "source": [
    "def f1_score(precision,recall):\n",
    "    f1_score = (2 * precision * recall) / (precision + recall) if (precision + recall) > 0 else 0\n",
    "\n",
    "    return f1_score"
   ]
  },
  {
   "cell_type": "code",
   "execution_count": null,
   "id": "3ba049f9-ad1c-4925-9e39-947b9000d44e",
   "metadata": {},
   "outputs": [],
   "source": [
    "def topn_get_F1_score(top_n, mean_difference, X_train, y_train):\n",
    "    \"\"\"\n",
    "    Calculate F1 score for top N features.\n",
    "    \n",
    "    Parameters:\n",
    "    - top_n: Number of top features to select\n",
    "    - mean_difference: Array of mean differences for feature selection\n",
    "    - X_train: Training feature matrix\n",
    "    - y_train: Training labels\n",
    "    \n",
    "    Returns:\n",
    "    - train_f1_score: F1 score for training data\n",
    "    - val_f1_score: F1 score for validation data\n",
    "    \"\"\"\n",
    "    # Filter the data\n",
    "    top_n_indices = np.argsort(mean_difference)[-top_n:]  # Get the top n indices\n",
    "    x_train_filtered = X_train[:, top_n_indices]\n",
    "\n",
    "    import random\n",
    "    random.seed(3395)\n",
    "    # Randomly choose indexes for the train and val dataset, say with 80-20 split\n",
    "    num_data = x_train_filtered.shape[0]\n",
    "    inds = list(range(num_data))\n",
    "    random.shuffle(inds)\n",
    "    train_inds = inds[:int(0.8 * num_data)]\n",
    "    val_inds = inds[int(0.8 * num_data):]\n",
    "    \n",
    "    # Split the data into train and val sets\n",
    "    train_data = x_train_filtered[train_inds, :]\n",
    "    train_labels = y_train[train_inds]\n",
    "    val_data = x_train_filtered[val_inds, :]\n",
    "    val_labels = y_train[val_inds]\n",
    "        \n",
    "    iris_train1 = train_data[train_labels == 0, :]\n",
    "    iris_train2 = train_data[train_labels == 1, :]\n",
    "    \n",
    "    # We create a model per class (using maximum likelihood)\n",
    "    model_class1 = GaussianMaxLikelihood(top_n)\n",
    "    model_class2 = GaussianMaxLikelihood(top_n)\n",
    "    \n",
    "    # We train each of them using the corresponding data\n",
    "    model_class1.train(iris_train1)\n",
    "    model_class2.train(iris_train2)\n",
    "    \n",
    "    # We create a list of all our models, and the list of prior values\n",
    "    total_num = len(iris_train1) + len(iris_train2)\n",
    "    priors = [len(iris_train1) / total_num, len(iris_train2) / total_num]\n",
    "    \n",
    "    # We create our classifier with our list of Gaussian models and our priors\n",
    "    classifier = BayesClassifier([model_class1, model_class2], priors)\n",
    "    \n",
    "    # Calculate the log-probabilities according to our model\n",
    "    log_prob = classifier.loglikelihood(train_data)\n",
    "    # Predict labels\n",
    "    train_classes_pred = log_prob.argmax(1)\n",
    "    train_precision, train_recall = precision_recall(train_classes_pred, train_labels)\n",
    "    train_f1_score = f1_score(train_precision, train_recall)\n",
    "\n",
    "    # Calculate the log-probabilities according to our model\n",
    "    log_prob = classifier.loglikelihood(val_data)\n",
    "    # Predict labels\n",
    "    val_classes_pred = log_prob.argmax(1)\n",
    "    val_precision, val_recall = precision_recall(val_classes_pred, val_labels)\n",
    "    val_f1_score = f1_score(val_precision, val_recall)\n",
    "    \n",
    "    return train_f1_score, val_f1_score"
   ]
  },
  {
   "cell_type": "code",
   "execution_count": null,
   "id": "497714d8-3163-4a5b-91c7-4808b913c180",
   "metadata": {},
   "outputs": [],
   "source": [
    "X_train.shape"
   ]
  },
  {
   "cell_type": "markdown",
   "id": "cd992f38-8e31-42c5-a01f-a35c0a940f07",
   "metadata": {},
   "source": [
    "## Call Data"
   ]
  },
  {
   "cell_type": "code",
   "execution_count": null,
   "id": "dd60721a-1877-4347-aa79-b4977f777ae3",
   "metadata": {},
   "outputs": [],
   "source": [
    "x = X_resampled\n",
    "y = y_resampled"
   ]
  },
  {
   "cell_type": "code",
   "execution_count": null,
   "id": "99624a7b-e602-4faf-b4d5-e0ef8286ca7d",
   "metadata": {},
   "outputs": [],
   "source": [
    "mask = remove_columns_by_mean(x, 3)\n",
    "combined_mask = [col for col in mask if col not in stop_word_indices]\n",
    "mask.shape"
   ]
  },
  {
   "cell_type": "code",
   "execution_count": null,
   "id": "6fa706f4-a473-4e6c-b2cd-c02000208171",
   "metadata": {},
   "outputs": [],
   "source": [
    "x = np.log(1+x)"
   ]
  },
  {
   "cell_type": "code",
   "execution_count": null,
   "id": "cbf20106-86f0-4039-8825-2390eb63a768",
   "metadata": {},
   "outputs": [],
   "source": []
  },
  {
   "cell_type": "code",
   "execution_count": null,
   "id": "19e7c1cc-dda6-4474-8bea-0165c158f666",
   "metadata": {},
   "outputs": [],
   "source": [
    "x= x[:, mask]"
   ]
  },
  {
   "cell_type": "code",
   "execution_count": null,
   "id": "5f77558a-968e-4f44-bb3a-55bda6a08765",
   "metadata": {},
   "outputs": [],
   "source": [
    "x.shape"
   ]
  },
  {
   "cell_type": "code",
   "execution_count": null,
   "id": "1c81e2a3-b954-4385-8b8d-ceeb670dea2c",
   "metadata": {},
   "outputs": [],
   "source": [
    "# Evaluate the model for different numbers of top words\n",
    "max_n = 1001\n",
    "top_ns = range(750, max_n,10)  # Evaluate for top 10, 20, ..., 100 words\n",
    "mean_diff = get_mean_difference(max_n,x,y)\n",
    "\n"
   ]
  },
  {
   "cell_type": "code",
   "execution_count": null,
   "id": "25c00158-d773-4b33-af4d-cf9e03af0751",
   "metadata": {},
   "outputs": [],
   "source": [
    "topn_get_F1_score(160,mean_diff,x,y)"
   ]
  },
  {
   "cell_type": "code",
   "execution_count": null,
   "id": "9904654b-05ce-4f3f-8362-70e2db421e45",
   "metadata": {},
   "outputs": [],
   "source": [
    "train_f1_scores = []\n",
    "val_f1_scores = []\n",
    "for top_n in top_ns:\n",
    "    train_f1, val_f1 = topn_get_F1_score(top_n,mean_diff,x,y)\n",
    "    train_f1_scores.append(train_f1)\n",
    "    val_f1_scores.append(val_f1)\n"
   ]
  },
  {
   "cell_type": "code",
   "execution_count": null,
   "id": "f396d6f7-5015-40af-b128-f4485703d844",
   "metadata": {},
   "outputs": [],
   "source": [
    "\n",
    "\n",
    "# Plot the F1 score against the number of top words used\n",
    "plt.figure(figsize=(10, 6))\n",
    "plt.plot(top_ns, train_f1_scores, marker='o', label='Train F1 Score')\n",
    "plt.plot(top_ns, val_f1_scores, marker='o', label='Validation F1 Score')\n",
    "plt.xlabel('Number of Top Words Used')\n",
    "plt.ylabel('F1 Score')\n",
    "plt.title('F1 Score vs. Number of Top Words Used')\n",
    "plt.legend()\n",
    "plt.grid(True)\n",
    "plt.show()"
   ]
  },
  {
   "cell_type": "code",
   "execution_count": null,
   "id": "727ba46a-b782-4de0-bbeb-947ab6617866",
   "metadata": {},
   "outputs": [],
   "source": [
    "# Assuming topn_get_F1_score, mean_diff, x, y, and top_ns are defined\n",
    "\n",
    "\n",
    "\n",
    "# Find the maximum validation F1 score and the corresponding top_n value\n",
    "max_val_f1 = max(val_f1_scores)\n",
    "max_val_f1_top_n = top_ns[val_f1_scores.index(max_val_f1)]\n",
    "\n",
    "# Find the maximum training F1 score and the corresponding top_n value\n",
    "max_train_f1 = max(train_f1_scores)\n",
    "max_train_f1_top_n = top_ns[train_f1_scores.index(max_train_f1)]\n",
    "\n",
    "\n",
    "\n",
    "# Print the results\n",
    "print(f\"Maximum Validation F1 Score: {max_val_f1} at top_n = {max_val_f1_top_n}\")\n",
    "print(f\"Maximum Training F1 Score: {max_train_f1} at top_n = {max_train_f1_top_n}\")\n"
   ]
  },
  {
   "cell_type": "code",
   "execution_count": null,
   "id": "b97c6775-dcfa-4bc2-87f4-48a07ec1bba5",
   "metadata": {},
   "outputs": [],
   "source": [
    "print(y_train)"
   ]
  },
  {
   "cell_type": "markdown",
   "id": "c7ef5dc7-f9f6-4611-870f-94e13f9126f0",
   "metadata": {},
   "source": [
    "# Get predictions"
   ]
  },
  {
   "cell_type": "code",
   "execution_count": null,
   "id": "0508ec28-5ca9-4d02-93ea-813a7105be3e",
   "metadata": {},
   "outputs": [],
   "source": [
    "x_test = np.log(1+X_test)"
   ]
  },
  {
   "cell_type": "code",
   "execution_count": null,
   "id": "5c518174-861b-4a9d-b25f-442c607c1b33",
   "metadata": {},
   "outputs": [],
   "source": [
    "x_test= x_test[:, mask]"
   ]
  },
  {
   "cell_type": "code",
   "execution_count": null,
   "id": "3d82dcac-1ab1-4cfc-b9a7-0cd71146a0e6",
   "metadata": {},
   "outputs": [],
   "source": [
    "def topn_get_predictions(top_n, mean_difference, X_train, X_test, y_train):\n",
    "    \"\"\"\n",
    "    Get predictions for top N features.\n",
    "    \n",
    "    Parameters:\n",
    "    - top_n: Number of top features to select\n",
    "    - mean_difference: Array of mean differences for feature selection\n",
    "    - X_train: Training feature matrix\n",
    "    - X_test: Test feature matrix\n",
    "    - y_train: Training labels\n",
    "    \n",
    "    Returns:\n",
    "    - y_test_pred: Predicted labels for the test data\n",
    "    \"\"\"\n",
    "    # Filter the data\n",
    "    top_n_indices = np.argsort(mean_difference)[-top_n:]  # Get the top n indices\n",
    "    x_train_filtered = X_train[:, top_n_indices]\n",
    "    x_test_filtered = X_test[:, top_n_indices]\n",
    "\n",
    "    import random\n",
    "    random.seed(3395)\n",
    "    # Randomly choose indexes for the train and val dataset, say with 80-20 split\n",
    "    num_data = x_train_filtered.shape[0]\n",
    "    inds = list(range(num_data))\n",
    "    random.shuffle(inds)\n",
    "    train_inds = inds[:int(0.8 * num_data)]\n",
    "    val_inds = inds[int(0.8 * num_data):]\n",
    "    \n",
    "    # Split the data into train and val sets\n",
    "    train_data = x_train_filtered[train_inds, :]\n",
    "    train_labels = y_train[train_inds]\n",
    "    val_data = x_train_filtered[val_inds, :]\n",
    "    val_labels = y_train[val_inds]\n",
    "        \n",
    "    iris_train1 = train_data[train_labels == 0, :]\n",
    "    iris_train2 = train_data[train_labels == 1, :]\n",
    "    \n",
    "    # We create a model per class (using maximum likelihood)\n",
    "    model_class1 = GaussianMaxLikelihood(top_n)\n",
    "    model_class2 = GaussianMaxLikelihood(top_n)\n",
    "    \n",
    "    # We train each of them using the corresponding data\n",
    "    model_class1.train(iris_train1)\n",
    "    model_class2.train(iris_train2)\n",
    "    \n",
    "    # We create a list of all our models, and the list of prior values\n",
    "    total_num = len(iris_train1) + len(iris_train2)\n",
    "    priors = [len(iris_train1) / total_num, len(iris_train2) / total_num]\n",
    "    \n",
    "    # We create our classifier with our list of Gaussian models and our priors\n",
    "    classifier = BayesClassifier([model_class1, model_class2], priors)\n",
    "    \n",
    "    # Predict labels for the test data\n",
    "    log_prob_test = classifier.loglikelihood(x_test_filtered)\n",
    "    y_test_pred = log_prob_test.argmax(1)\n",
    "    \n",
    "    return y_test_pred"
   ]
  },
  {
   "cell_type": "code",
   "execution_count": null,
   "id": "bffbcac2-9c9e-4dc9-aa51-91811b83ac33",
   "metadata": {},
   "outputs": [],
   "source": [
    "milestone1 = topn_get_predictions(850,mean_diff,x,x_test,y)\n"
   ]
  },
  {
   "cell_type": "code",
   "execution_count": null,
   "id": "b56746e8-afb5-4b2c-b16a-9917324c4f62",
   "metadata": {},
   "outputs": [],
   "source": [
    "milestone1.shape"
   ]
  },
  {
   "cell_type": "code",
   "execution_count": null,
   "id": "d4c43032-5908-4916-9843-a5a01e1f27b6",
   "metadata": {},
   "outputs": [],
   "source": [
    "# Print class percentages for training and test datasets\n",
    "print_class_percentages(milestone1, \"Training prediction Dataset\")"
   ]
  },
  {
   "cell_type": "code",
   "execution_count": null,
   "id": "22d76bd4-7ced-467a-aa28-a55735f2d700",
   "metadata": {},
   "outputs": [],
   "source": [
    "import pandas as pd\n",
    "import os as os"
   ]
  },
  {
   "cell_type": "code",
   "execution_count": null,
   "id": "58fa3280-9532-4ea9-a23e-e72d9dbe2484",
   "metadata": {},
   "outputs": [],
   "source": [
    "def save_array_with_index(array, filename):\n",
    "    # Create a DataFrame with the array\n",
    "    df = pd.DataFrame(array, columns=['label'])\n",
    "    \n",
    "    # Add the 'id' column using the row index\n",
    "    df['ID'] = df.index\n",
    "    \n",
    "    # Reorder the columns to have 'id' first and 'label' second\n",
    "    df = df[['ID', 'label']]\n",
    "    \n",
    "    # Check if the file exists and save over it\n",
    "    if os.path.exists(filename):\n",
    "        print(f\"File {filename} exists. Saving over it.\")\n",
    "    else:\n",
    "        print(f\"File {filename} does not exist. Creating a new file.\")\n",
    "    \n",
    "    # Save the DataFrame as a CSV file\n",
    "    df.to_csv(filename, index=False)"
   ]
  },
  {
   "cell_type": "code",
   "execution_count": null,
   "id": "52e44600-4c0e-4b30-9c37-caf9adb3386e",
   "metadata": {},
   "outputs": [],
   "source": [
    "filename = 'prediction_milestone1.csv'\n",
    "\n",
    "save_array_with_index(milestone1, filename)"
   ]
  },
  {
   "cell_type": "code",
   "execution_count": null,
   "id": "dc8328f3-a464-4fdf-87bd-8112138ec764",
   "metadata": {},
   "outputs": [],
   "source": []
  }
 ],
 "metadata": {
  "kernelspec": {
   "display_name": "Python 3 (ipykernel)",
   "language": "python",
   "name": "python3"
  },
  "language_info": {
   "codemirror_mode": {
    "name": "ipython",
    "version": 3
   },
   "file_extension": ".py",
   "mimetype": "text/x-python",
   "name": "python",
   "nbconvert_exporter": "python",
   "pygments_lexer": "ipython3",
   "version": "3.12.3"
  }
 },
 "nbformat": 4,
 "nbformat_minor": 5
}
